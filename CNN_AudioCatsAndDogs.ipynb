{
  "nbformat": 4,
  "nbformat_minor": 0,
  "metadata": {
    "colab": {
      "name": "CNN_AudioCatsAndDogs",
      "provenance": [],
      "collapsed_sections": [],
      "authorship_tag": "ABX9TyNhi15Z3jUJlA81PJfgPvPP",
      "include_colab_link": true
    },
    "kernelspec": {
      "name": "python3",
      "display_name": "Python 3"
    },
    "language_info": {
      "name": "python"
    }
  },
  "cells": [
    {
      "cell_type": "markdown",
      "metadata": {
        "id": "view-in-github",
        "colab_type": "text"
      },
      "source": [
        "<a href=\"https://colab.research.google.com/github/ce3tnia/DeepLearning/blob/master/CNN_AudioCatsAndDogs.ipynb\" target=\"_parent\"><img src=\"https://colab.research.google.com/assets/colab-badge.svg\" alt=\"Open In Colab\"/></a>"
      ]
    },
    {
      "cell_type": "code",
      "metadata": {
        "id": "EjdeT0EyKwqF",
        "colab": {
          "base_uri": "https://localhost:8080/"
        },
        "outputId": "5ea85620-6023-4d50-d590-b795c85b8f9b"
      },
      "source": [
        "from google.colab import drive\n",
        "drive.mount(\"/content/drive\")"
      ],
      "execution_count": null,
      "outputs": [
        {
          "output_type": "stream",
          "text": [
            "Drive already mounted at /content/drive; to attempt to forcibly remount, call drive.mount(\"/content/drive\", force_remount=True).\n"
          ],
          "name": "stdout"
        }
      ]
    },
    {
      "cell_type": "code",
      "metadata": {
        "colab": {
          "base_uri": "https://localhost:8080/"
        },
        "id": "y6zEIelWweOD",
        "outputId": "bb7fb2a5-7300-40a2-b42d-8de405da06ea"
      },
      "source": [
        "!pip install python_speech_features"
      ],
      "execution_count": null,
      "outputs": [
        {
          "output_type": "stream",
          "text": [
            "Requirement already satisfied: python_speech_features in /usr/local/lib/python3.7/dist-packages (0.6)\n"
          ],
          "name": "stdout"
        }
      ]
    },
    {
      "cell_type": "code",
      "metadata": {
        "id": "dCR4jCwIoGTz",
        "colab": {
          "base_uri": "https://localhost:8080/"
        },
        "outputId": "cd3b9c53-78ce-4b83-a7b6-f42cbf7ddc39"
      },
      "source": [
        "import os\n",
        "import librosa\n",
        "import pickle\n",
        "import numpy as np\n",
        "import pandas as pd\n",
        "import matplotlib.pyplot as plt\n",
        "import seaborn as sns\n",
        "from tqdm import tqdm\n",
        "from python_speech_features import mfcc\n",
        "from sklearn.preprocessing import LabelEncoder, OneHotEncoder\n",
        "from sklearn.model_selection import train_test_split\n",
        "from sklearn.metrics import confusion_matrix, classification_report\n",
        "from keras.layers import Conv2D, MaxPool2D, Flatten, Dense, Dropout\n",
        "from keras.models import Sequential\n",
        "from sklearn.metrics import roc_curve, auc"
      ],
      "execution_count": null,
      "outputs": [
        {
          "output_type": "stream",
          "text": [
            "/usr/local/lib/python3.7/dist-packages/sklearn/utils/deprecation.py:144: FutureWarning: The sklearn.metrics.classification module is  deprecated in version 0.22 and will be removed in version 0.24. The corresponding classes / functions should instead be imported from sklearn.metrics. Anything that cannot be imported from sklearn.metrics is now part of the private API.\n",
            "  warnings.warn(message, FutureWarning)\n"
          ],
          "name": "stderr"
        }
      ]
    },
    {
      "cell_type": "code",
      "metadata": {
        "colab": {
          "base_uri": "https://localhost:8080/",
          "height": 194
        },
        "id": "wVqYKIOwoInH",
        "outputId": "365998f0-4cf6-4a03-c77d-0165cd7aa99c"
      },
      "source": [
        "df = pd.read_csv('/content/drive/MyDrive/dataset/catsdogs/train_test_split.csv')\n",
        "df.head()"
      ],
      "execution_count": null,
      "outputs": [
        {
          "output_type": "execute_result",
          "data": {
            "text/html": [
              "<div>\n",
              "<style scoped>\n",
              "    .dataframe tbody tr th:only-of-type {\n",
              "        vertical-align: middle;\n",
              "    }\n",
              "\n",
              "    .dataframe tbody tr th {\n",
              "        vertical-align: top;\n",
              "    }\n",
              "\n",
              "    .dataframe thead th {\n",
              "        text-align: right;\n",
              "    }\n",
              "</style>\n",
              "<table border=\"1\" class=\"dataframe\">\n",
              "  <thead>\n",
              "    <tr style=\"text-align: right;\">\n",
              "      <th></th>\n",
              "      <th>Unnamed: 0</th>\n",
              "      <th>test_cat</th>\n",
              "      <th>test_dog</th>\n",
              "      <th>train_cat</th>\n",
              "      <th>train_dog</th>\n",
              "    </tr>\n",
              "  </thead>\n",
              "  <tbody>\n",
              "    <tr>\n",
              "      <th>0</th>\n",
              "      <td>0</td>\n",
              "      <td>cat_22.wav</td>\n",
              "      <td>dog_barking_97.wav</td>\n",
              "      <td>cat_99.wav</td>\n",
              "      <td>dog_barking_33.wav</td>\n",
              "    </tr>\n",
              "    <tr>\n",
              "      <th>1</th>\n",
              "      <td>1</td>\n",
              "      <td>cat_116.wav</td>\n",
              "      <td>dog_barking_0.wav</td>\n",
              "      <td>cat_54.wav</td>\n",
              "      <td>dog_barking_86.wav</td>\n",
              "    </tr>\n",
              "    <tr>\n",
              "      <th>2</th>\n",
              "      <td>2</td>\n",
              "      <td>cat_155.wav</td>\n",
              "      <td>dog_barking_93.wav</td>\n",
              "      <td>cat_34.wav</td>\n",
              "      <td>dog_barking_45.wav</td>\n",
              "    </tr>\n",
              "    <tr>\n",
              "      <th>3</th>\n",
              "      <td>3</td>\n",
              "      <td>cat_58.wav</td>\n",
              "      <td>dog_barking_10.wav</td>\n",
              "      <td>cat_132.wav</td>\n",
              "      <td>dog_barking_76.wav</td>\n",
              "    </tr>\n",
              "    <tr>\n",
              "      <th>4</th>\n",
              "      <td>4</td>\n",
              "      <td>cat_77.wav</td>\n",
              "      <td>dog_barking_26.wav</td>\n",
              "      <td>cat_124.wav</td>\n",
              "      <td>dog_barking_4.wav</td>\n",
              "    </tr>\n",
              "  </tbody>\n",
              "</table>\n",
              "</div>"
            ],
            "text/plain": [
              "   Unnamed: 0     test_cat            test_dog    train_cat           train_dog\n",
              "0           0   cat_22.wav  dog_barking_97.wav   cat_99.wav  dog_barking_33.wav\n",
              "1           1  cat_116.wav   dog_barking_0.wav   cat_54.wav  dog_barking_86.wav\n",
              "2           2  cat_155.wav  dog_barking_93.wav   cat_34.wav  dog_barking_45.wav\n",
              "3           3   cat_58.wav  dog_barking_10.wav  cat_132.wav  dog_barking_76.wav\n",
              "4           4   cat_77.wav  dog_barking_26.wav  cat_124.wav   dog_barking_4.wav"
            ]
          },
          "metadata": {
            "tags": []
          },
          "execution_count": 4
        }
      ]
    },
    {
      "cell_type": "code",
      "metadata": {
        "id": "SZXmtYCLp0fH"
      },
      "source": [
        "#making training, test separate dfs\n",
        "cat_train = df[['train_cat']].dropna().rename(index=str, columns={\"train_cat\":\"file\"}).assign(label='cat')\n",
        "\n",
        "dog_train = df[['train_dog']].dropna().rename(index=str, columns={\"train_dog\":\"file\"}).assign(label='dog')\n",
        "\n",
        "cat_test = df[['test_cat']].dropna().rename(index=str, columns={\"test_cat\":\"file\"}).assign(label='cat')\n",
        "\n",
        "dog_test = df[['test_dog']].dropna().rename(index=str, columns={\"test_dog\":\"file\"}).assign(label='dog')\n",
        "\n",
        "## concatenate all\n",
        "train_df = pd.concat([cat_train, dog_train]).reset_index(drop=True)\n",
        "test_df = pd.concat([cat_test, dog_test]).reset_index(drop=True)"
      ],
      "execution_count": null,
      "outputs": []
    },
    {
      "cell_type": "code",
      "metadata": {
        "colab": {
          "base_uri": "https://localhost:8080/",
          "height": 399
        },
        "id": "ZJYW8XDnqBfB",
        "outputId": "9fbab03f-1dad-44f1-cc19-63d97bb983c6"
      },
      "source": [
        "df = pd.concat([train_df, test_df]).reset_index(drop=True)\n",
        "df"
      ],
      "execution_count": null,
      "outputs": [
        {
          "output_type": "execute_result",
          "data": {
            "text/html": [
              "<div>\n",
              "<style scoped>\n",
              "    .dataframe tbody tr th:only-of-type {\n",
              "        vertical-align: middle;\n",
              "    }\n",
              "\n",
              "    .dataframe tbody tr th {\n",
              "        vertical-align: top;\n",
              "    }\n",
              "\n",
              "    .dataframe thead th {\n",
              "        text-align: right;\n",
              "    }\n",
              "</style>\n",
              "<table border=\"1\" class=\"dataframe\">\n",
              "  <thead>\n",
              "    <tr style=\"text-align: right;\">\n",
              "      <th></th>\n",
              "      <th>file</th>\n",
              "      <th>label</th>\n",
              "    </tr>\n",
              "  </thead>\n",
              "  <tbody>\n",
              "    <tr>\n",
              "      <th>0</th>\n",
              "      <td>cat_99.wav</td>\n",
              "      <td>cat</td>\n",
              "    </tr>\n",
              "    <tr>\n",
              "      <th>1</th>\n",
              "      <td>cat_54.wav</td>\n",
              "      <td>cat</td>\n",
              "    </tr>\n",
              "    <tr>\n",
              "      <th>2</th>\n",
              "      <td>cat_34.wav</td>\n",
              "      <td>cat</td>\n",
              "    </tr>\n",
              "    <tr>\n",
              "      <th>3</th>\n",
              "      <td>cat_132.wav</td>\n",
              "      <td>cat</td>\n",
              "    </tr>\n",
              "    <tr>\n",
              "      <th>4</th>\n",
              "      <td>cat_124.wav</td>\n",
              "      <td>cat</td>\n",
              "    </tr>\n",
              "    <tr>\n",
              "      <th>...</th>\n",
              "      <td>...</td>\n",
              "      <td>...</td>\n",
              "    </tr>\n",
              "    <tr>\n",
              "      <th>272</th>\n",
              "      <td>dog_barking_109.wav</td>\n",
              "      <td>dog</td>\n",
              "    </tr>\n",
              "    <tr>\n",
              "      <th>273</th>\n",
              "      <td>dog_barking_69.wav</td>\n",
              "      <td>dog</td>\n",
              "    </tr>\n",
              "    <tr>\n",
              "      <th>274</th>\n",
              "      <td>dog_barking_77.wav</td>\n",
              "      <td>dog</td>\n",
              "    </tr>\n",
              "    <tr>\n",
              "      <th>275</th>\n",
              "      <td>dog_barking_60.wav</td>\n",
              "      <td>dog</td>\n",
              "    </tr>\n",
              "    <tr>\n",
              "      <th>276</th>\n",
              "      <td>dog_barking_57.wav</td>\n",
              "      <td>dog</td>\n",
              "    </tr>\n",
              "  </tbody>\n",
              "</table>\n",
              "<p>277 rows × 2 columns</p>\n",
              "</div>"
            ],
            "text/plain": [
              "                    file label\n",
              "0             cat_99.wav   cat\n",
              "1             cat_54.wav   cat\n",
              "2             cat_34.wav   cat\n",
              "3            cat_132.wav   cat\n",
              "4            cat_124.wav   cat\n",
              "..                   ...   ...\n",
              "272  dog_barking_109.wav   dog\n",
              "273   dog_barking_69.wav   dog\n",
              "274   dog_barking_77.wav   dog\n",
              "275   dog_barking_60.wav   dog\n",
              "276   dog_barking_57.wav   dog\n",
              "\n",
              "[277 rows x 2 columns]"
            ]
          },
          "metadata": {
            "tags": []
          },
          "execution_count": 6
        }
      ]
    },
    {
      "cell_type": "code",
      "metadata": {
        "colab": {
          "base_uri": "https://localhost:8080/"
        },
        "id": "l6U2o1G6qJ0i",
        "outputId": "e4c4c673-928c-4b1a-9407-dd4cc5ec39db"
      },
      "source": [
        "# Loading data\n",
        "path = '/content/drive/MyDrive/dataset/catsdogs/cats_dogs/'\n",
        "audio_data = list()\n",
        "for i in tqdm(range(df.shape[0])):\n",
        "    audio_data.append(librosa.load(path+df['file'].iloc[i]))\n",
        "audio_data = np.array(audio_data)"
      ],
      "execution_count": null,
      "outputs": [
        {
          "output_type": "stream",
          "text": [
            "100%|██████████| 277/277 [00:41<00:00,  6.73it/s]\n",
            "/usr/local/lib/python3.7/dist-packages/ipykernel_launcher.py:6: VisibleDeprecationWarning: Creating an ndarray from ragged nested sequences (which is a list-or-tuple of lists-or-tuples-or ndarrays with different lengths or shapes) is deprecated. If you meant to do this, you must specify 'dtype=object' when creating the ndarray\n",
            "  \n"
          ],
          "name": "stderr"
        }
      ]
    },
    {
      "cell_type": "code",
      "metadata": {
        "colab": {
          "base_uri": "https://localhost:8080/",
          "height": 194
        },
        "id": "pzdSB08yq2qZ",
        "outputId": "6cce3aac-490f-40d4-9fef-038c6980a03d"
      },
      "source": [
        "# Put the loaded data into data frame\n",
        "df['audio_waves'] = audio_data[:,0]\n",
        "df['samplerate'] = audio_data[:,1]\n",
        "df.head()"
      ],
      "execution_count": null,
      "outputs": [
        {
          "output_type": "execute_result",
          "data": {
            "text/html": [
              "<div>\n",
              "<style scoped>\n",
              "    .dataframe tbody tr th:only-of-type {\n",
              "        vertical-align: middle;\n",
              "    }\n",
              "\n",
              "    .dataframe tbody tr th {\n",
              "        vertical-align: top;\n",
              "    }\n",
              "\n",
              "    .dataframe thead th {\n",
              "        text-align: right;\n",
              "    }\n",
              "</style>\n",
              "<table border=\"1\" class=\"dataframe\">\n",
              "  <thead>\n",
              "    <tr style=\"text-align: right;\">\n",
              "      <th></th>\n",
              "      <th>file</th>\n",
              "      <th>label</th>\n",
              "      <th>audio_waves</th>\n",
              "      <th>samplerate</th>\n",
              "    </tr>\n",
              "  </thead>\n",
              "  <tbody>\n",
              "    <tr>\n",
              "      <th>0</th>\n",
              "      <td>cat_99.wav</td>\n",
              "      <td>cat</td>\n",
              "      <td>[-0.07119886, -0.06775932, -0.029129358, 0.005...</td>\n",
              "      <td>22050</td>\n",
              "    </tr>\n",
              "    <tr>\n",
              "      <th>1</th>\n",
              "      <td>cat_54.wav</td>\n",
              "      <td>cat</td>\n",
              "      <td>[0.013862704, 0.017383214, 0.0155879175, 0.015...</td>\n",
              "      <td>22050</td>\n",
              "    </tr>\n",
              "    <tr>\n",
              "      <th>2</th>\n",
              "      <td>cat_34.wav</td>\n",
              "      <td>cat</td>\n",
              "      <td>[0.0, 0.0, 0.0, 0.0, 0.0, 0.0, 0.0, 0.0, 0.0, ...</td>\n",
              "      <td>22050</td>\n",
              "    </tr>\n",
              "    <tr>\n",
              "      <th>3</th>\n",
              "      <td>cat_132.wav</td>\n",
              "      <td>cat</td>\n",
              "      <td>[0.0076420866, 0.00998313, 0.009568622, 0.0091...</td>\n",
              "      <td>22050</td>\n",
              "    </tr>\n",
              "    <tr>\n",
              "      <th>4</th>\n",
              "      <td>cat_124.wav</td>\n",
              "      <td>cat</td>\n",
              "      <td>[0.0, 0.0, 0.0, 0.0, 0.0, 0.0, 0.0, 0.0, 0.0, ...</td>\n",
              "      <td>22050</td>\n",
              "    </tr>\n",
              "  </tbody>\n",
              "</table>\n",
              "</div>"
            ],
            "text/plain": [
              "          file  ... samplerate\n",
              "0   cat_99.wav  ...      22050\n",
              "1   cat_54.wav  ...      22050\n",
              "2   cat_34.wav  ...      22050\n",
              "3  cat_132.wav  ...      22050\n",
              "4  cat_124.wav  ...      22050\n",
              "\n",
              "[5 rows x 4 columns]"
            ]
          },
          "metadata": {
            "tags": []
          },
          "execution_count": 8
        }
      ]
    },
    {
      "cell_type": "code",
      "metadata": {
        "colab": {
          "base_uri": "https://localhost:8080/",
          "height": 194
        },
        "id": "BhZrrE8yri07",
        "outputId": "84cd7d62-79fd-43e8-8f84-e4dcc4834886"
      },
      "source": [
        "# Calculate the length of each audio file\n",
        "bit_lengths = list()\n",
        "for i in range(df.shape[0]):\n",
        "    bit_lengths.append(len(df['audio_waves'].iloc[i]))\n",
        "bit_lengths = np.array(bit_lengths)\n",
        "df['bit_lengths'] = bit_lengths\n",
        "df['second_lengths'] = df['bit_lengths']/df['samplerate']\n",
        "df.head()"
      ],
      "execution_count": null,
      "outputs": [
        {
          "output_type": "execute_result",
          "data": {
            "text/html": [
              "<div>\n",
              "<style scoped>\n",
              "    .dataframe tbody tr th:only-of-type {\n",
              "        vertical-align: middle;\n",
              "    }\n",
              "\n",
              "    .dataframe tbody tr th {\n",
              "        vertical-align: top;\n",
              "    }\n",
              "\n",
              "    .dataframe thead th {\n",
              "        text-align: right;\n",
              "    }\n",
              "</style>\n",
              "<table border=\"1\" class=\"dataframe\">\n",
              "  <thead>\n",
              "    <tr style=\"text-align: right;\">\n",
              "      <th></th>\n",
              "      <th>file</th>\n",
              "      <th>label</th>\n",
              "      <th>audio_waves</th>\n",
              "      <th>samplerate</th>\n",
              "      <th>bit_lengths</th>\n",
              "      <th>second_lengths</th>\n",
              "    </tr>\n",
              "  </thead>\n",
              "  <tbody>\n",
              "    <tr>\n",
              "      <th>0</th>\n",
              "      <td>cat_99.wav</td>\n",
              "      <td>cat</td>\n",
              "      <td>[-0.07119886, -0.06775932, -0.029129358, 0.005...</td>\n",
              "      <td>22050</td>\n",
              "      <td>264600</td>\n",
              "      <td>12</td>\n",
              "    </tr>\n",
              "    <tr>\n",
              "      <th>1</th>\n",
              "      <td>cat_54.wav</td>\n",
              "      <td>cat</td>\n",
              "      <td>[0.013862704, 0.017383214, 0.0155879175, 0.015...</td>\n",
              "      <td>22050</td>\n",
              "      <td>23914</td>\n",
              "      <td>1.08454</td>\n",
              "    </tr>\n",
              "    <tr>\n",
              "      <th>2</th>\n",
              "      <td>cat_34.wav</td>\n",
              "      <td>cat</td>\n",
              "      <td>[0.0, 0.0, 0.0, 0.0, 0.0, 0.0, 0.0, 0.0, 0.0, ...</td>\n",
              "      <td>22050</td>\n",
              "      <td>192894</td>\n",
              "      <td>8.74803</td>\n",
              "    </tr>\n",
              "    <tr>\n",
              "      <th>3</th>\n",
              "      <td>cat_132.wav</td>\n",
              "      <td>cat</td>\n",
              "      <td>[0.0076420866, 0.00998313, 0.009568622, 0.0091...</td>\n",
              "      <td>22050</td>\n",
              "      <td>334984</td>\n",
              "      <td>15.192</td>\n",
              "    </tr>\n",
              "    <tr>\n",
              "      <th>4</th>\n",
              "      <td>cat_124.wav</td>\n",
              "      <td>cat</td>\n",
              "      <td>[0.0, 0.0, 0.0, 0.0, 0.0, 0.0, 0.0, 0.0, 0.0, ...</td>\n",
              "      <td>22050</td>\n",
              "      <td>23814</td>\n",
              "      <td>1.08</td>\n",
              "    </tr>\n",
              "  </tbody>\n",
              "</table>\n",
              "</div>"
            ],
            "text/plain": [
              "          file label  ... bit_lengths second_lengths\n",
              "0   cat_99.wav   cat  ...      264600             12\n",
              "1   cat_54.wav   cat  ...       23914        1.08454\n",
              "2   cat_34.wav   cat  ...      192894        8.74803\n",
              "3  cat_132.wav   cat  ...      334984         15.192\n",
              "4  cat_124.wav   cat  ...       23814           1.08\n",
              "\n",
              "[5 rows x 6 columns]"
            ]
          },
          "metadata": {
            "tags": []
          },
          "execution_count": 9
        }
      ]
    },
    {
      "cell_type": "code",
      "metadata": {
        "id": "_Gl3ZIgarutC"
      },
      "source": [
        "#### Step 2: Data generation\n",
        "\n",
        "# Take only the audio with >= 2 seconds audio length\n",
        "df = df[df['second_lengths'] >= 2.0]"
      ],
      "execution_count": null,
      "outputs": []
    },
    {
      "cell_type": "code",
      "metadata": {
        "id": "Gv1Q34Tsrzcq"
      },
      "source": [
        "# In case you want to create a checkpoint\n",
        "with open('audio_df.pickle', 'wb') as f:\n",
        "    pickle.dump(df, f)"
      ],
      "execution_count": null,
      "outputs": []
    },
    {
      "cell_type": "code",
      "metadata": {
        "id": "kqXacStHr14X"
      },
      "source": [
        "# In case you want to load a checkpoint\n",
        "with open('audio_df.pickle', 'rb') as f:\n",
        "    df = pickle.load(f)"
      ],
      "execution_count": null,
      "outputs": []
    },
    {
      "cell_type": "code",
      "metadata": {
        "colab": {
          "base_uri": "https://localhost:8080/"
        },
        "id": "bPGvnn8hr5Oz",
        "outputId": "492a8816-ec1c-4fb9-9425-a03b9be4611b"
      },
      "source": [
        "# Check whether our minimum length is 2 seconds or more\n",
        "min_bits = np.min(df['bit_lengths'])\n",
        "print(min_bits)\n",
        "min_seconds = np.min(df['second_lengths'])\n",
        "print(min_seconds)"
      ],
      "execution_count": null,
      "outputs": [
        {
          "output_type": "stream",
          "text": [
            "44365\n",
            "2.012018140589569\n"
          ],
          "name": "stdout"
        }
      ]
    },
    {
      "cell_type": "code",
      "metadata": {
        "colab": {
          "base_uri": "https://localhost:8080/"
        },
        "id": "0W_iPGbY9jXz",
        "outputId": "6afd84b4-4c1f-4d65-f922-b682bfc0173d"
      },
      "source": [
        "df.shape"
      ],
      "execution_count": null,
      "outputs": [
        {
          "output_type": "execute_result",
          "data": {
            "text/plain": [
              "(229, 6)"
            ]
          },
          "metadata": {
            "tags": []
          },
          "execution_count": 14
        }
      ]
    },
    {
      "cell_type": "code",
      "metadata": {
        "colab": {
          "base_uri": "https://localhost:8080/"
        },
        "id": "GcUMdWa4s189",
        "outputId": "2048deb1-8c6e-4060-85e7-1fd3b13c0c04"
      },
      "source": [
        "# Generate data\n",
        "num_samples = 300\n",
        "generated_audio_waves = list()\n",
        "generated_audio_labels = list()\n",
        "for i in tqdm(range(num_samples)):\n",
        "    try:\n",
        "        chosen_file = np.random.choice(df['file'].values)\n",
        "        chosen_initial = np.random.choice(np.arange(0,df[df['file']==chosen_file]['bit_lengths'].values-min_bits))\n",
        "        generated_audio_waves.append(df[df['file']==chosen_file]['audio_waves'].values[0][chosen_initial:chosen_initial+min_bits])\n",
        "        \n",
        "        generated_audio_labels.append(df[df['file']==chosen_file]['label'].values)\n",
        "    except ValueError:\n",
        "        continue\n",
        "generated_audio_waves = np.array(generated_audio_waves)\n",
        "generated_audio_labels = np.array(generated_audio_labels)"
      ],
      "execution_count": null,
      "outputs": [
        {
          "output_type": "stream",
          "text": [
            "100%|██████████| 300/300 [00:00<00:00, 510.61it/s]\n"
          ],
          "name": "stderr"
        }
      ]
    },
    {
      "cell_type": "code",
      "metadata": {
        "colab": {
          "base_uri": "https://localhost:8080/"
        },
        "id": "bn3vOrC7tJ-D",
        "outputId": "d044d057-9947-4799-b303-b65e4cc14822"
      },
      "source": [
        "#### Step 3: Features preprocessing\n",
        "mfcc_features = list()\n",
        "for i in tqdm(range(len(generated_audio_waves))):\n",
        "    mfcc_features.append(mfcc(generated_audio_waves[i]))\n",
        "mfcc_features = np.array(mfcc_features)"
      ],
      "execution_count": null,
      "outputs": [
        {
          "output_type": "stream",
          "text": [
            "100%|██████████| 298/298 [00:02<00:00, 101.22it/s]\n"
          ],
          "name": "stderr"
        }
      ]
    },
    {
      "cell_type": "code",
      "metadata": {
        "colab": {
          "base_uri": "https://localhost:8080/"
        },
        "id": "ZjVhC8tfw0Ly",
        "outputId": "58c489ec-bb8f-42a0-ae95-ac4fa71dfe0c"
      },
      "source": [
        "# Check the shape of raw wave and MFCC features\n",
        "print(generated_audio_waves.shape)\n",
        "print(mfcc_features.shape)"
      ],
      "execution_count": null,
      "outputs": [
        {
          "output_type": "stream",
          "text": [
            "(298, 44365)\n",
            "(298, 276, 13)\n"
          ],
          "name": "stdout"
        }
      ]
    },
    {
      "cell_type": "code",
      "metadata": {
        "colab": {
          "base_uri": "https://localhost:8080/",
          "height": 172
        },
        "id": "9fj2ZS51w19x",
        "outputId": "9daa46b9-6c2c-45e4-beae-266b30dde432"
      },
      "source": [
        "# Print a raw audio wave\n",
        "plt.figure(figsize=(12,2))\n",
        "plt.plot(generated_audio_waves[30])\n",
        "plt.title(generated_audio_labels[30])\n",
        "plt.show()"
      ],
      "execution_count": null,
      "outputs": [
        {
          "output_type": "display_data",
          "data": {
            "image/png": "[encoded data removed]",
            "text/plain": [
              "<Figure size 864x144 with 1 Axes>"
            ]
          },
          "metadata": {
            "tags": []
          }
        }
      ]
    },
    {
      "cell_type": "code",
      "metadata": {
        "colab": {
          "base_uri": "https://localhost:8080/",
          "height": 94
        },
        "id": "Oo1-pGHOw5uj",
        "outputId": "c6348dd5-cf73-46f2-d53b-ead4ea0d3151"
      },
      "source": [
        "# Print the MFCC features of the audio wave\n",
        "plt.figure(figsize=(12, 2))\n",
        "plt.imshow(mfcc_features[30].T, cmap='hot')\n",
        "plt.title(generated_audio_labels[30])\n",
        "plt.show()"
      ],
      "execution_count": null,
      "outputs": [
        {
          "output_type": "display_data",
          "data": {
            "image/png": "[encoded data removed]",
            "text/plain": [
              "<Figure size 864x144 with 1 Axes>"
            ]
          },
          "metadata": {
            "tags": []
          }
        }
      ]
    },
    {
      "cell_type": "code",
      "metadata": {
        "colab": {
          "base_uri": "https://localhost:8080/"
        },
        "id": "DeeY47Vsw8zT",
        "outputId": "a5b7aade-025e-46ba-b7f9-6d03a4678954"
      },
      "source": [
        "#### Step 4: Label preprocessing\n",
        "# Label encoding\n",
        "label_encoder = LabelEncoder()\n",
        "label_encoded = label_encoder.fit_transform(generated_audio_labels)\n",
        "print(label_encoded)"
      ],
      "execution_count": null,
      "outputs": [
        {
          "output_type": "stream",
          "text": [
            "[1 1 1 0 0 0 1 0 1 1 1 0 0 1 1 0 1 1 1 0 0 0 1 0 1 0 0 0 0 1 1 1 1 0 1 0 1\n",
            " 1 1 1 1 0 0 1 1 1 1 0 0 0 0 1 1 0 0 0 1 1 0 1 1 1 1 0 1 1 0 1 1 0 0 0 1 1\n",
            " 0 0 1 1 1 1 1 0 0 1 0 1 0 1 1 1 0 1 1 0 0 1 0 1 0 0 0 0 0 0 0 0 0 0 1 1 0\n",
            " 0 1 0 1 0 0 0 1 0 1 1 1 0 1 1 1 0 0 1 1 0 1 1 0 1 1 0 0 0 1 1 0 1 0 0 0 0\n",
            " 1 0 1 0 1 1 1 1 0 0 1 0 1 0 1 1 0 1 1 0 0 0 0 0 0 1 1 0 0 1 0 1 1 1 1 1 0\n",
            " 0 0 1 1 1 0 0 0 0 0 1 0 1 0 0 0 1 1 0 1 1 0 0 1 1 1 0 1 0 0 1 1 1 1 1 0 0\n",
            " 0 0 0 1 0 0 0 0 0 0 0 1 0 0 0 0 1 1 1 1 1 0 1 0 0 1 1 0 0 1 0 0 1 1 0 0 0\n",
            " 1 0 0 0 0 0 1 1 1 0 1 0 1 1 1 0 0 0 0 1 1 0 1 1 0 1 0 1 1 1 1 1 1 0 0 1 0\n",
            " 1 0]\n"
          ],
          "name": "stdout"
        },
        {
          "output_type": "stream",
          "text": [
            "/usr/local/lib/python3.7/dist-packages/sklearn/preprocessing/_label.py:251: DataConversionWarning: A column-vector y was passed when a 1d array was expected. Please change the shape of y to (n_samples, ), for example using ravel().\n",
            "  y = column_or_1d(y, warn=True)\n"
          ],
          "name": "stderr"
        }
      ]
    },
    {
      "cell_type": "code",
      "metadata": {
        "colab": {
          "base_uri": "https://localhost:8080/"
        },
        "id": "61twn9S3w_L4",
        "outputId": "e9615eab-3528-4232-8b2b-745d8f89ce65"
      },
      "source": [
        "label_encoded = label_encoded[:, np.newaxis]\n",
        "print(label_encoded)"
      ],
      "execution_count": null,
      "outputs": [
        {
          "output_type": "stream",
          "text": [
            "[[1]\n",
            " [1]\n",
            " [1]\n",
            " [0]\n",
            " [0]\n",
            " [0]\n",
            " [1]\n",
            " [0]\n",
            " [1]\n",
            " [1]\n",
            " [1]\n",
            " [0]\n",
            " [0]\n",
            " [1]\n",
            " [1]\n",
            " [0]\n",
            " [1]\n",
            " [1]\n",
            " [1]\n",
            " [0]\n",
            " [0]\n",
            " [0]\n",
            " [1]\n",
            " [0]\n",
            " [1]\n",
            " [0]\n",
            " [0]\n",
            " [0]\n",
            " [0]\n",
            " [1]\n",
            " [1]\n",
            " [1]\n",
            " [1]\n",
            " [0]\n",
            " [1]\n",
            " [0]\n",
            " [1]\n",
            " [1]\n",
            " [1]\n",
            " [1]\n",
            " [1]\n",
            " [0]\n",
            " [0]\n",
            " [1]\n",
            " [1]\n",
            " [1]\n",
            " [1]\n",
            " [0]\n",
            " [0]\n",
            " [0]\n",
            " [0]\n",
            " [1]\n",
            " [1]\n",
            " [0]\n",
            " [0]\n",
            " [0]\n",
            " [1]\n",
            " [1]\n",
            " [0]\n",
            " [1]\n",
            " [1]\n",
            " [1]\n",
            " [1]\n",
            " [0]\n",
            " [1]\n",
            " [1]\n",
            " [0]\n",
            " [1]\n",
            " [1]\n",
            " [0]\n",
            " [0]\n",
            " [0]\n",
            " [1]\n",
            " [1]\n",
            " [0]\n",
            " [0]\n",
            " [1]\n",
            " [1]\n",
            " [1]\n",
            " [1]\n",
            " [1]\n",
            " [0]\n",
            " [0]\n",
            " [1]\n",
            " [0]\n",
            " [1]\n",
            " [0]\n",
            " [1]\n",
            " [1]\n",
            " [1]\n",
            " [0]\n",
            " [1]\n",
            " [1]\n",
            " [0]\n",
            " [0]\n",
            " [1]\n",
            " [0]\n",
            " [1]\n",
            " [0]\n",
            " [0]\n",
            " [0]\n",
            " [0]\n",
            " [0]\n",
            " [0]\n",
            " [0]\n",
            " [0]\n",
            " [0]\n",
            " [0]\n",
            " [1]\n",
            " [1]\n",
            " [0]\n",
            " [0]\n",
            " [1]\n",
            " [0]\n",
            " [1]\n",
            " [0]\n",
            " [0]\n",
            " [0]\n",
            " [1]\n",
            " [0]\n",
            " [1]\n",
            " [1]\n",
            " [1]\n",
            " [0]\n",
            " [1]\n",
            " [1]\n",
            " [1]\n",
            " [0]\n",
            " [0]\n",
            " [1]\n",
            " [1]\n",
            " [0]\n",
            " [1]\n",
            " [1]\n",
            " [0]\n",
            " [1]\n",
            " [1]\n",
            " [0]\n",
            " [0]\n",
            " [0]\n",
            " [1]\n",
            " [1]\n",
            " [0]\n",
            " [1]\n",
            " [0]\n",
            " [0]\n",
            " [0]\n",
            " [0]\n",
            " [1]\n",
            " [0]\n",
            " [1]\n",
            " [0]\n",
            " [1]\n",
            " [1]\n",
            " [1]\n",
            " [1]\n",
            " [0]\n",
            " [0]\n",
            " [1]\n",
            " [0]\n",
            " [1]\n",
            " [0]\n",
            " [1]\n",
            " [1]\n",
            " [0]\n",
            " [1]\n",
            " [1]\n",
            " [0]\n",
            " [0]\n",
            " [0]\n",
            " [0]\n",
            " [0]\n",
            " [0]\n",
            " [1]\n",
            " [1]\n",
            " [0]\n",
            " [0]\n",
            " [1]\n",
            " [0]\n",
            " [1]\n",
            " [1]\n",
            " [1]\n",
            " [1]\n",
            " [1]\n",
            " [0]\n",
            " [0]\n",
            " [0]\n",
            " [1]\n",
            " [1]\n",
            " [1]\n",
            " [0]\n",
            " [0]\n",
            " [0]\n",
            " [0]\n",
            " [0]\n",
            " [1]\n",
            " [0]\n",
            " [1]\n",
            " [0]\n",
            " [0]\n",
            " [0]\n",
            " [1]\n",
            " [1]\n",
            " [0]\n",
            " [1]\n",
            " [1]\n",
            " [0]\n",
            " [0]\n",
            " [1]\n",
            " [1]\n",
            " [1]\n",
            " [0]\n",
            " [1]\n",
            " [0]\n",
            " [0]\n",
            " [1]\n",
            " [1]\n",
            " [1]\n",
            " [1]\n",
            " [1]\n",
            " [0]\n",
            " [0]\n",
            " [0]\n",
            " [0]\n",
            " [0]\n",
            " [1]\n",
            " [0]\n",
            " [0]\n",
            " [0]\n",
            " [0]\n",
            " [0]\n",
            " [0]\n",
            " [0]\n",
            " [1]\n",
            " [0]\n",
            " [0]\n",
            " [0]\n",
            " [0]\n",
            " [1]\n",
            " [1]\n",
            " [1]\n",
            " [1]\n",
            " [1]\n",
            " [0]\n",
            " [1]\n",
            " [0]\n",
            " [0]\n",
            " [1]\n",
            " [1]\n",
            " [0]\n",
            " [0]\n",
            " [1]\n",
            " [0]\n",
            " [0]\n",
            " [1]\n",
            " [1]\n",
            " [0]\n",
            " [0]\n",
            " [0]\n",
            " [1]\n",
            " [0]\n",
            " [0]\n",
            " [0]\n",
            " [0]\n",
            " [0]\n",
            " [1]\n",
            " [1]\n",
            " [1]\n",
            " [0]\n",
            " [1]\n",
            " [0]\n",
            " [1]\n",
            " [1]\n",
            " [1]\n",
            " [0]\n",
            " [0]\n",
            " [0]\n",
            " [0]\n",
            " [1]\n",
            " [1]\n",
            " [0]\n",
            " [1]\n",
            " [1]\n",
            " [0]\n",
            " [1]\n",
            " [0]\n",
            " [1]\n",
            " [1]\n",
            " [1]\n",
            " [1]\n",
            " [1]\n",
            " [1]\n",
            " [0]\n",
            " [0]\n",
            " [1]\n",
            " [0]\n",
            " [1]\n",
            " [0]]\n"
          ],
          "name": "stdout"
        }
      ]
    },
    {
      "cell_type": "code",
      "metadata": {
        "colab": {
          "base_uri": "https://localhost:8080/"
        },
        "id": "ZzqtsFMOxBlW",
        "outputId": "2c40b939-f327-4b25-b639-b5533081b86c"
      },
      "source": [
        "# One hot encoding\n",
        "one_hot_encoder = OneHotEncoder(sparse=False)\n",
        "one_hot_encoded = one_hot_encoder.fit_transform(label_encoded)\n",
        "print(one_hot_encoded)"
      ],
      "execution_count": null,
      "outputs": [
        {
          "output_type": "stream",
          "text": [
            "[[0. 1.]\n",
            " [0. 1.]\n",
            " [0. 1.]\n",
            " [1. 0.]\n",
            " [1. 0.]\n",
            " [1. 0.]\n",
            " [0. 1.]\n",
            " [1. 0.]\n",
            " [0. 1.]\n",
            " [0. 1.]\n",
            " [0. 1.]\n",
            " [1. 0.]\n",
            " [1. 0.]\n",
            " [0. 1.]\n",
            " [0. 1.]\n",
            " [1. 0.]\n",
            " [0. 1.]\n",
            " [0. 1.]\n",
            " [0. 1.]\n",
            " [1. 0.]\n",
            " [1. 0.]\n",
            " [1. 0.]\n",
            " [0. 1.]\n",
            " [1. 0.]\n",
            " [0. 1.]\n",
            " [1. 0.]\n",
            " [1. 0.]\n",
            " [1. 0.]\n",
            " [1. 0.]\n",
            " [0. 1.]\n",
            " [0. 1.]\n",
            " [0. 1.]\n",
            " [0. 1.]\n",
            " [1. 0.]\n",
            " [0. 1.]\n",
            " [1. 0.]\n",
            " [0. 1.]\n",
            " [0. 1.]\n",
            " [0. 1.]\n",
            " [0. 1.]\n",
            " [0. 1.]\n",
            " [1. 0.]\n",
            " [1. 0.]\n",
            " [0. 1.]\n",
            " [0. 1.]\n",
            " [0. 1.]\n",
            " [0. 1.]\n",
            " [1. 0.]\n",
            " [1. 0.]\n",
            " [1. 0.]\n",
            " [1. 0.]\n",
            " [0. 1.]\n",
            " [0. 1.]\n",
            " [1. 0.]\n",
            " [1. 0.]\n",
            " [1. 0.]\n",
            " [0. 1.]\n",
            " [0. 1.]\n",
            " [1. 0.]\n",
            " [0. 1.]\n",
            " [0. 1.]\n",
            " [0. 1.]\n",
            " [0. 1.]\n",
            " [1. 0.]\n",
            " [0. 1.]\n",
            " [0. 1.]\n",
            " [1. 0.]\n",
            " [0. 1.]\n",
            " [0. 1.]\n",
            " [1. 0.]\n",
            " [1. 0.]\n",
            " [1. 0.]\n",
            " [0. 1.]\n",
            " [0. 1.]\n",
            " [1. 0.]\n",
            " [1. 0.]\n",
            " [0. 1.]\n",
            " [0. 1.]\n",
            " [0. 1.]\n",
            " [0. 1.]\n",
            " [0. 1.]\n",
            " [1. 0.]\n",
            " [1. 0.]\n",
            " [0. 1.]\n",
            " [1. 0.]\n",
            " [0. 1.]\n",
            " [1. 0.]\n",
            " [0. 1.]\n",
            " [0. 1.]\n",
            " [0. 1.]\n",
            " [1. 0.]\n",
            " [0. 1.]\n",
            " [0. 1.]\n",
            " [1. 0.]\n",
            " [1. 0.]\n",
            " [0. 1.]\n",
            " [1. 0.]\n",
            " [0. 1.]\n",
            " [1. 0.]\n",
            " [1. 0.]\n",
            " [1. 0.]\n",
            " [1. 0.]\n",
            " [1. 0.]\n",
            " [1. 0.]\n",
            " [1. 0.]\n",
            " [1. 0.]\n",
            " [1. 0.]\n",
            " [1. 0.]\n",
            " [0. 1.]\n",
            " [0. 1.]\n",
            " [1. 0.]\n",
            " [1. 0.]\n",
            " [0. 1.]\n",
            " [1. 0.]\n",
            " [0. 1.]\n",
            " [1. 0.]\n",
            " [1. 0.]\n",
            " [1. 0.]\n",
            " [0. 1.]\n",
            " [1. 0.]\n",
            " [0. 1.]\n",
            " [0. 1.]\n",
            " [0. 1.]\n",
            " [1. 0.]\n",
            " [0. 1.]\n",
            " [0. 1.]\n",
            " [0. 1.]\n",
            " [1. 0.]\n",
            " [1. 0.]\n",
            " [0. 1.]\n",
            " [0. 1.]\n",
            " [1. 0.]\n",
            " [0. 1.]\n",
            " [0. 1.]\n",
            " [1. 0.]\n",
            " [0. 1.]\n",
            " [0. 1.]\n",
            " [1. 0.]\n",
            " [1. 0.]\n",
            " [1. 0.]\n",
            " [0. 1.]\n",
            " [0. 1.]\n",
            " [1. 0.]\n",
            " [0. 1.]\n",
            " [1. 0.]\n",
            " [1. 0.]\n",
            " [1. 0.]\n",
            " [1. 0.]\n",
            " [0. 1.]\n",
            " [1. 0.]\n",
            " [0. 1.]\n",
            " [1. 0.]\n",
            " [0. 1.]\n",
            " [0. 1.]\n",
            " [0. 1.]\n",
            " [0. 1.]\n",
            " [1. 0.]\n",
            " [1. 0.]\n",
            " [0. 1.]\n",
            " [1. 0.]\n",
            " [0. 1.]\n",
            " [1. 0.]\n",
            " [0. 1.]\n",
            " [0. 1.]\n",
            " [1. 0.]\n",
            " [0. 1.]\n",
            " [0. 1.]\n",
            " [1. 0.]\n",
            " [1. 0.]\n",
            " [1. 0.]\n",
            " [1. 0.]\n",
            " [1. 0.]\n",
            " [1. 0.]\n",
            " [0. 1.]\n",
            " [0. 1.]\n",
            " [1. 0.]\n",
            " [1. 0.]\n",
            " [0. 1.]\n",
            " [1. 0.]\n",
            " [0. 1.]\n",
            " [0. 1.]\n",
            " [0. 1.]\n",
            " [0. 1.]\n",
            " [0. 1.]\n",
            " [1. 0.]\n",
            " [1. 0.]\n",
            " [1. 0.]\n",
            " [0. 1.]\n",
            " [0. 1.]\n",
            " [0. 1.]\n",
            " [1. 0.]\n",
            " [1. 0.]\n",
            " [1. 0.]\n",
            " [1. 0.]\n",
            " [1. 0.]\n",
            " [0. 1.]\n",
            " [1. 0.]\n",
            " [0. 1.]\n",
            " [1. 0.]\n",
            " [1. 0.]\n",
            " [1. 0.]\n",
            " [0. 1.]\n",
            " [0. 1.]\n",
            " [1. 0.]\n",
            " [0. 1.]\n",
            " [0. 1.]\n",
            " [1. 0.]\n",
            " [1. 0.]\n",
            " [0. 1.]\n",
            " [0. 1.]\n",
            " [0. 1.]\n",
            " [1. 0.]\n",
            " [0. 1.]\n",
            " [1. 0.]\n",
            " [1. 0.]\n",
            " [0. 1.]\n",
            " [0. 1.]\n",
            " [0. 1.]\n",
            " [0. 1.]\n",
            " [0. 1.]\n",
            " [1. 0.]\n",
            " [1. 0.]\n",
            " [1. 0.]\n",
            " [1. 0.]\n",
            " [1. 0.]\n",
            " [0. 1.]\n",
            " [1. 0.]\n",
            " [1. 0.]\n",
            " [1. 0.]\n",
            " [1. 0.]\n",
            " [1. 0.]\n",
            " [1. 0.]\n",
            " [1. 0.]\n",
            " [0. 1.]\n",
            " [1. 0.]\n",
            " [1. 0.]\n",
            " [1. 0.]\n",
            " [1. 0.]\n",
            " [0. 1.]\n",
            " [0. 1.]\n",
            " [0. 1.]\n",
            " [0. 1.]\n",
            " [0. 1.]\n",
            " [1. 0.]\n",
            " [0. 1.]\n",
            " [1. 0.]\n",
            " [1. 0.]\n",
            " [0. 1.]\n",
            " [0. 1.]\n",
            " [1. 0.]\n",
            " [1. 0.]\n",
            " [0. 1.]\n",
            " [1. 0.]\n",
            " [1. 0.]\n",
            " [0. 1.]\n",
            " [0. 1.]\n",
            " [1. 0.]\n",
            " [1. 0.]\n",
            " [1. 0.]\n",
            " [0. 1.]\n",
            " [1. 0.]\n",
            " [1. 0.]\n",
            " [1. 0.]\n",
            " [1. 0.]\n",
            " [1. 0.]\n",
            " [0. 1.]\n",
            " [0. 1.]\n",
            " [0. 1.]\n",
            " [1. 0.]\n",
            " [0. 1.]\n",
            " [1. 0.]\n",
            " [0. 1.]\n",
            " [0. 1.]\n",
            " [0. 1.]\n",
            " [1. 0.]\n",
            " [1. 0.]\n",
            " [1. 0.]\n",
            " [1. 0.]\n",
            " [0. 1.]\n",
            " [0. 1.]\n",
            " [1. 0.]\n",
            " [0. 1.]\n",
            " [0. 1.]\n",
            " [1. 0.]\n",
            " [0. 1.]\n",
            " [1. 0.]\n",
            " [0. 1.]\n",
            " [0. 1.]\n",
            " [0. 1.]\n",
            " [0. 1.]\n",
            " [0. 1.]\n",
            " [0. 1.]\n",
            " [1. 0.]\n",
            " [1. 0.]\n",
            " [0. 1.]\n",
            " [1. 0.]\n",
            " [0. 1.]\n",
            " [1. 0.]]\n"
          ],
          "name": "stdout"
        }
      ]
    },
    {
      "cell_type": "code",
      "metadata": {
        "id": "nQGKRa_6xDnB"
      },
      "source": [
        "#### Step 5: Model training\n",
        "X = mfcc_features\n",
        "y = one_hot_encoded\n",
        "X = (X-X.min())/(X.max()-X.min())"
      ],
      "execution_count": null,
      "outputs": []
    },
    {
      "cell_type": "code",
      "metadata": {
        "id": "b1-0t3-UxFq7"
      },
      "source": [
        "# Train/test split\n",
        "\n",
        "X_train, X_test, y_train, y_test = train_test_split(X, y, stratify=y, test_size=0.3, random_state=42)"
      ],
      "execution_count": null,
      "outputs": []
    },
    {
      "cell_type": "code",
      "metadata": {
        "id": "8o5BB4JRxIhr"
      },
      "source": [
        "# Defining input shape for the neural network\n",
        "input_shape = (X_train.shape[1], X_train.shape[2], 1)"
      ],
      "execution_count": null,
      "outputs": []
    },
    {
      "cell_type": "code",
      "metadata": {
        "colab": {
          "base_uri": "https://localhost:8080/"
        },
        "id": "q6z-6q0IxLXD",
        "outputId": "c3c1cafc-a75a-4e47-ea2d-ad3191757aaa"
      },
      "source": [
        "# Reshape X_train and X_test such that they are having the same shape as the input shape\n",
        "X_train = X_train.reshape(X_train.shape[0], X_train.shape[1], X_train.shape[2], 1)\n",
        "print(X_train.shape)\n",
        "X_test = X_test.reshape(X_test.shape[0], X_test.shape[1], X_test.shape[2], 1)\n",
        "print(X_test.shape)"
      ],
      "execution_count": null,
      "outputs": [
        {
          "output_type": "stream",
          "text": [
            "(208, 276, 13, 1)\n",
            "(90, 276, 13, 1)\n"
          ],
          "name": "stdout"
        }
      ]
    },
    {
      "cell_type": "code",
      "metadata": {
        "id": "uAofKXG9xPYm",
        "colab": {
          "base_uri": "https://localhost:8080/"
        },
        "outputId": "bba07880-bcf6-41f0-80ec-480b6eb20e82"
      },
      "source": [
        "# Constructing the neural network architecture\n",
        "model = Sequential()\n",
        "model.add(Conv2D(16, (3, 3), activation='relu', strides=(1, 1), padding='same', input_shape=input_shape))\n",
        "model.add(MaxPool2D((2, 2)))\n",
        "model.add(Conv2D(32, (3, 3), activation='relu', strides=(1, 1), padding='same'))\n",
        "model.add(MaxPool2D((2, 2)))\n",
        "model.add(Conv2D(64, (3, 3), activation='relu', strides=(1, 1), padding='same'))\n",
        "model.add(MaxPool2D((2, 2)))\n",
        "model.add(Dropout(0.5))\n",
        "model.add(Flatten())\n",
        "model.add(Dense(128, activation='relu'))\n",
        "model.add(Dropout(0.5))\n",
        "model.add(Dense(64, activation='relu'))\n",
        "model.add(Dropout(0.5))\n",
        "model.add(Dense(2, activation='softmax'))\n",
        "\n",
        "model.compile(loss='binary_crossentropy', optimizer='adam', metrics=['acc'])\n",
        "\n",
        "model.summary()"
      ],
      "execution_count": null,
      "outputs": [
        {
          "output_type": "stream",
          "text": [
            "Model: \"sequential\"\n",
            "_________________________________________________________________\n",
            "Layer (type)                 Output Shape              Param #   \n",
            "=================================================================\n",
            "conv2d (Conv2D)              (None, 276, 13, 16)       160       \n",
            "_________________________________________________________________\n",
            "max_pooling2d (MaxPooling2D) (None, 138, 6, 16)        0         \n",
            "_________________________________________________________________\n",
            "conv2d_1 (Conv2D)            (None, 138, 6, 32)        4640      \n",
            "_________________________________________________________________\n",
            "max_pooling2d_1 (MaxPooling2 (None, 69, 3, 32)         0         \n",
            "_________________________________________________________________\n",
            "conv2d_2 (Conv2D)            (None, 69, 3, 64)         18496     \n",
            "_________________________________________________________________\n",
            "max_pooling2d_2 (MaxPooling2 (None, 34, 1, 64)         0         \n",
            "_________________________________________________________________\n",
            "dropout (Dropout)            (None, 34, 1, 64)         0         \n",
            "_________________________________________________________________\n",
            "flatten (Flatten)            (None, 2176)              0         \n",
            "_________________________________________________________________\n",
            "dense (Dense)                (None, 128)               278656    \n",
            "_________________________________________________________________\n",
            "dropout_1 (Dropout)          (None, 128)               0         \n",
            "_________________________________________________________________\n",
            "dense_1 (Dense)              (None, 64)                8256      \n",
            "_________________________________________________________________\n",
            "dropout_2 (Dropout)          (None, 64)                0         \n",
            "_________________________________________________________________\n",
            "dense_2 (Dense)              (None, 2)                 130       \n",
            "=================================================================\n",
            "Total params: 310,338\n",
            "Trainable params: 310,338\n",
            "Non-trainable params: 0\n",
            "_________________________________________________________________\n"
          ],
          "name": "stdout"
        }
      ]
    },
    {
      "cell_type": "code",
      "metadata": {
        "colab": {
          "base_uri": "https://localhost:8080/",
          "height": 1000
        },
        "id": "dFbkrm0hxV_T",
        "outputId": "af8d1846-3fea-48a6-9d01-20ba95d0623b"
      },
      "source": [
        "# Training the model\n",
        "history = model.fit(X_train, y_train, epochs=50, validation_data=(X_test, y_test))\n",
        "\n",
        "plt.figure(figsize=(8,8))\n",
        "plt.title('Accuracy')\n",
        "plt.plot(history.history['acc'])\n",
        "plt.plot(history.history['val_acc'])\n",
        "plt.legend(['acc', 'val_acc'])\n",
        "plt.show()\n",
        "\n",
        "# Displaying loss values\n",
        "plt.figure(figsize=(8,8))\n",
        "plt.title('Loss Value')\n",
        "plt.plot(history.history['loss'])\n",
        "plt.plot(history.history['val_loss'])\n",
        "plt.legend(['loss', 'val_loss'])\n",
        "plt.show()"
      ],
      "execution_count": null,
      "outputs": [
        {
          "output_type": "stream",
          "text": [
            "Epoch 1/50\n",
            "7/7 [==============================] - 17s 215ms/step - loss: 0.7052 - acc: 0.4901 - val_loss: 0.6886 - val_acc: 0.5000\n",
            "Epoch 2/50\n",
            "7/7 [==============================] - 1s 104ms/step - loss: 0.7048 - acc: 0.4335 - val_loss: 0.6887 - val_acc: 0.5000\n",
            "Epoch 3/50\n",
            "7/7 [==============================] - 1s 103ms/step - loss: 0.6941 - acc: 0.5333 - val_loss: 0.6853 - val_acc: 0.5000\n",
            "Epoch 4/50\n",
            "7/7 [==============================] - 1s 102ms/step - loss: 0.6934 - acc: 0.4856 - val_loss: 0.6766 - val_acc: 0.5000\n",
            "Epoch 5/50\n",
            "7/7 [==============================] - 1s 101ms/step - loss: 0.6797 - acc: 0.5646 - val_loss: 0.6565 - val_acc: 0.5222\n",
            "Epoch 6/50\n",
            "7/7 [==============================] - 1s 102ms/step - loss: 0.6721 - acc: 0.6234 - val_loss: 0.6241 - val_acc: 0.7333\n",
            "Epoch 7/50\n",
            "7/7 [==============================] - 1s 106ms/step - loss: 0.6454 - acc: 0.6611 - val_loss: 0.5814 - val_acc: 0.8444\n",
            "Epoch 8/50\n",
            "7/7 [==============================] - 1s 103ms/step - loss: 0.5878 - acc: 0.7913 - val_loss: 0.5183 - val_acc: 0.8111\n",
            "Epoch 9/50\n",
            "7/7 [==============================] - 1s 106ms/step - loss: 0.5069 - acc: 0.7883 - val_loss: 0.4669 - val_acc: 0.7667\n",
            "Epoch 10/50\n",
            "7/7 [==============================] - 1s 104ms/step - loss: 0.4840 - acc: 0.7853 - val_loss: 0.3832 - val_acc: 0.8222\n",
            "Epoch 11/50\n",
            "7/7 [==============================] - 1s 103ms/step - loss: 0.4230 - acc: 0.7832 - val_loss: 0.3591 - val_acc: 0.8333\n",
            "Epoch 12/50\n",
            "7/7 [==============================] - 1s 106ms/step - loss: 0.4176 - acc: 0.8225 - val_loss: 0.3605 - val_acc: 0.8333\n",
            "Epoch 13/50\n",
            "7/7 [==============================] - 1s 105ms/step - loss: 0.3705 - acc: 0.8600 - val_loss: 0.3198 - val_acc: 0.8889\n",
            "Epoch 14/50\n",
            "7/7 [==============================] - 1s 104ms/step - loss: 0.3949 - acc: 0.8609 - val_loss: 0.3327 - val_acc: 0.8444\n",
            "Epoch 15/50\n",
            "7/7 [==============================] - 1s 103ms/step - loss: 0.3301 - acc: 0.8967 - val_loss: 0.3133 - val_acc: 0.8889\n",
            "Epoch 16/50\n",
            "7/7 [==============================] - 1s 105ms/step - loss: 0.3552 - acc: 0.8621 - val_loss: 0.3173 - val_acc: 0.8667\n",
            "Epoch 17/50\n",
            "7/7 [==============================] - 1s 104ms/step - loss: 0.3181 - acc: 0.8725 - val_loss: 0.2879 - val_acc: 0.9000\n",
            "Epoch 18/50\n",
            "7/7 [==============================] - 1s 101ms/step - loss: 0.3653 - acc: 0.8120 - val_loss: 0.3207 - val_acc: 0.8667\n",
            "Epoch 19/50\n",
            "7/7 [==============================] - 1s 104ms/step - loss: 0.3406 - acc: 0.8821 - val_loss: 0.2874 - val_acc: 0.8889\n",
            "Epoch 20/50\n",
            "7/7 [==============================] - 1s 104ms/step - loss: 0.3051 - acc: 0.8679 - val_loss: 0.3019 - val_acc: 0.8778\n",
            "Epoch 21/50\n",
            "7/7 [==============================] - 1s 102ms/step - loss: 0.3324 - acc: 0.8871 - val_loss: 0.3106 - val_acc: 0.8889\n",
            "Epoch 22/50\n",
            "7/7 [==============================] - 1s 103ms/step - loss: 0.3250 - acc: 0.8854 - val_loss: 0.2845 - val_acc: 0.9000\n",
            "Epoch 23/50\n",
            "7/7 [==============================] - 1s 105ms/step - loss: 0.2928 - acc: 0.8860 - val_loss: 0.2865 - val_acc: 0.9000\n",
            "Epoch 24/50\n",
            "7/7 [==============================] - 1s 104ms/step - loss: 0.3120 - acc: 0.9012 - val_loss: 0.2953 - val_acc: 0.8889\n",
            "Epoch 25/50\n",
            "7/7 [==============================] - 1s 102ms/step - loss: 0.2945 - acc: 0.8978 - val_loss: 0.3040 - val_acc: 0.8889\n",
            "Epoch 26/50\n",
            "7/7 [==============================] - 1s 104ms/step - loss: 0.2600 - acc: 0.9104 - val_loss: 0.2827 - val_acc: 0.9000\n",
            "Epoch 27/50\n",
            "7/7 [==============================] - 1s 104ms/step - loss: 0.2897 - acc: 0.9055 - val_loss: 0.2851 - val_acc: 0.8889\n",
            "Epoch 28/50\n",
            "7/7 [==============================] - 1s 104ms/step - loss: 0.2848 - acc: 0.8808 - val_loss: 0.3057 - val_acc: 0.8889\n",
            "Epoch 29/50\n",
            "7/7 [==============================] - 1s 102ms/step - loss: 0.2441 - acc: 0.8916 - val_loss: 0.2903 - val_acc: 0.8889\n",
            "Epoch 30/50\n",
            "7/7 [==============================] - 1s 107ms/step - loss: 0.2776 - acc: 0.8904 - val_loss: 0.3149 - val_acc: 0.8889\n",
            "Epoch 31/50\n",
            "7/7 [==============================] - 1s 104ms/step - loss: 0.2359 - acc: 0.9047 - val_loss: 0.2922 - val_acc: 0.8889\n",
            "Epoch 32/50\n",
            "7/7 [==============================] - 1s 103ms/step - loss: 0.2125 - acc: 0.9338 - val_loss: 0.3207 - val_acc: 0.8889\n",
            "Epoch 33/50\n",
            "7/7 [==============================] - 1s 104ms/step - loss: 0.2685 - acc: 0.9149 - val_loss: 0.3033 - val_acc: 0.8667\n",
            "Epoch 34/50\n",
            "7/7 [==============================] - 1s 106ms/step - loss: 0.2306 - acc: 0.8997 - val_loss: 0.3118 - val_acc: 0.8778\n",
            "Epoch 35/50\n",
            "7/7 [==============================] - 1s 102ms/step - loss: 0.2104 - acc: 0.9225 - val_loss: 0.3337 - val_acc: 0.8889\n",
            "Epoch 36/50\n",
            "7/7 [==============================] - 1s 103ms/step - loss: 0.2476 - acc: 0.9061 - val_loss: 0.2953 - val_acc: 0.8778\n",
            "Epoch 37/50\n",
            "7/7 [==============================] - 1s 104ms/step - loss: 0.1962 - acc: 0.9323 - val_loss: 0.3272 - val_acc: 0.8778\n",
            "Epoch 38/50\n",
            "7/7 [==============================] - 1s 104ms/step - loss: 0.2461 - acc: 0.8738 - val_loss: 0.4091 - val_acc: 0.8556\n",
            "Epoch 39/50\n",
            "7/7 [==============================] - 1s 102ms/step - loss: 0.2823 - acc: 0.8867 - val_loss: 0.3011 - val_acc: 0.8667\n",
            "Epoch 40/50\n",
            "7/7 [==============================] - 1s 103ms/step - loss: 0.2713 - acc: 0.8930 - val_loss: 0.3003 - val_acc: 0.8889\n",
            "Epoch 41/50\n",
            "7/7 [==============================] - 1s 105ms/step - loss: 0.2087 - acc: 0.9369 - val_loss: 0.3286 - val_acc: 0.8667\n",
            "Epoch 42/50\n",
            "7/7 [==============================] - 1s 102ms/step - loss: 0.3033 - acc: 0.8974 - val_loss: 0.3376 - val_acc: 0.8556\n",
            "Epoch 43/50\n",
            "7/7 [==============================] - 1s 103ms/step - loss: 0.2139 - acc: 0.9228 - val_loss: 0.3033 - val_acc: 0.8778\n",
            "Epoch 44/50\n",
            "7/7 [==============================] - 1s 106ms/step - loss: 0.2229 - acc: 0.9008 - val_loss: 0.3121 - val_acc: 0.8667\n",
            "Epoch 45/50\n",
            "7/7 [==============================] - 1s 106ms/step - loss: 0.2144 - acc: 0.9149 - val_loss: 0.3164 - val_acc: 0.8889\n",
            "Epoch 46/50\n",
            "7/7 [==============================] - 1s 103ms/step - loss: 0.2071 - acc: 0.9288 - val_loss: 0.3282 - val_acc: 0.8778\n",
            "Epoch 47/50\n",
            "7/7 [==============================] - 1s 104ms/step - loss: 0.2282 - acc: 0.9126 - val_loss: 0.3208 - val_acc: 0.8667\n",
            "Epoch 48/50\n",
            "7/7 [==============================] - 1s 105ms/step - loss: 0.2098 - acc: 0.9359 - val_loss: 0.3215 - val_acc: 0.8667\n",
            "Epoch 49/50\n",
            "7/7 [==============================] - 1s 106ms/step - loss: 0.1790 - acc: 0.9380 - val_loss: 0.3630 - val_acc: 0.8778\n",
            "Epoch 50/50\n",
            "7/7 [==============================] - 1s 104ms/step - loss: 0.2102 - acc: 0.9227 - val_loss: 0.3152 - val_acc: 0.8778\n"
          ],
          "name": "stdout"
        },
        {
          "output_type": "display_data",
          "data": {
            "image/png": "[encoded data removed]",
            "text/plain": [
              "<Figure size 576x576 with 1 Axes>"
            ]
          },
          "metadata": {
            "tags": []
          }
        },
        {
          "output_type": "display_data",
          "data": {
            "image/png": "[encoded data removed]",
            "text/plain": [
              "<Figure size 576x576 with 1 Axes>"
            ]
          },
          "metadata": {
            "tags": []
          }
        }
      ]
    },
    {
      "cell_type": "code",
      "metadata": {
        "id": "zcDiE8Fsyuma"
      },
      "source": [
        "prediction = model.predict(X_test)"
      ],
      "execution_count": null,
      "outputs": []
    },
    {
      "cell_type": "code",
      "metadata": {
        "id": "76YjI3Q3y4Kd"
      },
      "source": [
        "predictions = np.argmax(prediction, axis=1)\n",
        "y_test = one_hot_encoder.inverse_transform(y_test)"
      ],
      "execution_count": null,
      "outputs": []
    },
    {
      "cell_type": "code",
      "metadata": {
        "colab": {
          "base_uri": "https://localhost:8080/",
          "height": 365
        },
        "id": "b9CDbcZMy6Ig",
        "outputId": "91a612bb-ef31-4fcd-95d7-357e65f5c8cb"
      },
      "source": [
        "cm = confusion_matrix(y_test, predictions)\n",
        "ax = plt.subplot()\n",
        "sns.heatmap(cm, annot=True, xticklabels=label_encoder.classes_, yticklabels=label_encoder.classes_, fmt='d', cbar=True, ax=ax)\n",
        "plt.xlabel('Predicted Label')\n",
        "plt.ylabel('True Label')\n",
        "plt.show()"
      ],
      "execution_count": null,
      "outputs": [
        {
          "output_type": "display_data",
          "data": {
            "image/png": "[encoded data removed]",
            "text/plain": [
              "<Figure size 576x396 with 2 Axes>"
            ]
          },
          "metadata": {
            "tags": []
          }
        }
      ]
    },
    {
      "cell_type": "code",
      "metadata": {
        "colab": {
          "base_uri": "https://localhost:8080/",
          "height": 376
        },
        "id": "dfajx6zLSZUM",
        "outputId": "48954de6-2821-4e13-b3d0-1cbaddc47697"
      },
      "source": [
        "fpr, tpr, thresholds = roc_curve(y_test.ravel(), predictions.ravel())\n",
        "auc_ = auc(fpr, tpr)\n",
        "\n",
        "plt.figure(1)\n",
        "plt.plot([0, 1], [0, 1], 'k--')\n",
        "plt.plot(fpr, tpr, label='ROC (area = {:.3f})'.format(auc_))\n",
        "plt.xlabel('False positive rate')\n",
        "plt.ylabel('True positive rate')\n",
        "plt.title('ROC curve')\n",
        "plt.legend(loc='best')\n",
        "plt.show()"
      ],
      "execution_count": null,
      "outputs": [
        {
          "output_type": "display_data",
          "data": {
            "image/png": "[encoded data removed]",
            "text/plain": [
              "<Figure size 576x396 with 1 Axes>"
            ]
          },
          "metadata": {
            "tags": []
          }
        }
      ]
    },
    {
      "cell_type": "code",
      "metadata": {
        "colab": {
          "base_uri": "https://localhost:8080/"
        },
        "id": "y-DQZZiPzNoL",
        "outputId": "a4dee722-0115-4962-a3a6-8cbd6dd8e483"
      },
      "source": [
        "print('Classification Report \\n{}'.format(classification_report(y_test, model.predict_classes(X_test))))"
      ],
      "execution_count": null,
      "outputs": [
        {
          "output_type": "stream",
          "text": [
            "Classification Report \n",
            "              precision    recall  f1-score   support\n",
            "\n",
            "           0       0.87      0.89      0.88        45\n",
            "           1       0.89      0.87      0.88        45\n",
            "\n",
            "    accuracy                           0.88        90\n",
            "   macro avg       0.88      0.88      0.88        90\n",
            "weighted avg       0.88      0.88      0.88        90\n",
            "\n"
          ],
          "name": "stdout"
        },
        {
          "output_type": "stream",
          "text": [
            "/usr/local/lib/python3.7/dist-packages/keras/engine/sequential.py:450: UserWarning: `model.predict_classes()` is deprecated and will be removed after 2021-01-01. Please use instead:* `np.argmax(model.predict(x), axis=-1)`,   if your model does multi-class classification   (e.g. if it uses a `softmax` last-layer activation).* `(model.predict(x) > 0.5).astype(\"int32\")`,   if your model does binary classification   (e.g. if it uses a `sigmoid` last-layer activation).\n",
            "  warnings.warn('`model.predict_classes()` is deprecated and '\n"
          ],
          "name": "stderr"
        }
      ]
    },
    {
      "cell_type": "code",
      "metadata": {
        "colab": {
          "base_uri": "https://localhost:8080/"
        },
        "id": "roLP-YxQ_RIJ",
        "outputId": "b5f82d5e-8334-4f9f-b01d-7d8281d6c9e2"
      },
      "source": [
        "print(input_shape)"
      ],
      "execution_count": null,
      "outputs": [
        {
          "output_type": "stream",
          "text": [
            "(276, 13, 1)\n"
          ],
          "name": "stdout"
        }
      ]
    },
    {
      "cell_type": "code",
      "metadata": {
        "colab": {
          "base_uri": "https://localhost:8080/"
        },
        "id": "RHufPX6CrZKD",
        "outputId": "5b725bde-f4ef-42fe-fd79-ef311f156aeb"
      },
      "source": [
        "len(X_test), len(y_test), len(X_train), len(y_train)"
      ],
      "execution_count": null,
      "outputs": [
        {
          "output_type": "execute_result",
          "data": {
            "text/plain": [
              "(90, 90, 208, 208)"
            ]
          },
          "metadata": {
            "tags": []
          },
          "execution_count": 35
        }
      ]
    },
    {
      "cell_type": "code",
      "metadata": {
        "colab": {
          "base_uri": "https://localhost:8080/"
        },
        "id": "4JNIaThraeVh",
        "outputId": "a29f738f-a8b8-42af-8e65-4231f43f79e6"
      },
      "source": [
        "print(\"in X_train, there is {} cats and {} dogs\".format(len(y_train) - sum(y_train), sum(y_train)))\n",
        "print(\"in X_test, there is {} cats and {} dogs\".format(len(y_test) - sum(y_test), sum(y_test)))\n",
        "\n",
        "print (y_test.shape)"
      ],
      "execution_count": null,
      "outputs": [
        {
          "output_type": "stream",
          "text": [
            "in X_train, there is [103. 105.] cats and [105. 103.] dogs\n",
            "in X_test, there is [45] cats and [45] dogs\n",
            "(90, 1)\n"
          ],
          "name": "stdout"
        }
      ]
    }
  ]
}